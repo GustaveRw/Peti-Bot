{
  "nbformat": 4,
  "nbformat_minor": 0,
  "metadata": {
    "colab": {
      "provenance": [],
      "authorship_tag": "ABX9TyNruwDD0UYALrTJ3+Rnh5Hh",
      "include_colab_link": true
    },
    "kernelspec": {
      "name": "python3",
      "display_name": "Python 3"
    },
    "language_info": {
      "name": "python"
    }
  },
  "cells": [
    {
      "cell_type": "markdown",
      "metadata": {
        "id": "view-in-github",
        "colab_type": "text"
      },
      "source": [
        "<a href=\"https://colab.research.google.com/github/GustaveRw/Peti-Bot/blob/main/Chatbot.ipynb\" target=\"_parent\"><img src=\"https://colab.research.google.com/assets/colab-badge.svg\" alt=\"Open In Colab\"/></a>"
      ]
    },
    {
      "cell_type": "code",
      "execution_count": null,
      "metadata": {
        "id": "VDBdCfcgseqw"
      },
      "outputs": [],
      "source": [
        "!pip install chatterbot google-api-python-client\n"
      ]
    },
    {
      "cell_type": "code",
      "source": [
        "from chatterbot import ChatBot\n",
        "from chatterbot.trainers import ChatterBotCorpusTrainer\n",
        "from google.oauth2.credentials import Credentials\n",
        "from googleapiclient.discovery import build\n",
        "\n",
        "# Replace the API key below with a valid API key\n",
        "api_key = \"YOUR_API_KEY\"\n",
        "\n",
        "# Set up the Google Translate API service\n",
        "service = build('translate', 'v2', credentials=Credentials.from_authorized_user_info(info={\"api_key\": api_key}))\n",
        "\n",
        "# Create a new chatbot\n",
        "chatbot = ChatBot(\"Peti\")\n",
        "\n",
        "# Train the chatbot with some pre-defined conversation\n",
        "trainer = ChatterBotCorpusTrainer(chatbot)\n",
        "trainer.train(\"chatterbot.corpus.english.greetings\", \"chatterbot.corpus.english.conversations\")\n",
        "\n",
        "# Define a function that will translate the chatbot's response\n",
        "def translate_response(response, target_language):\n",
        "    # Call the Google Translate API to translate the response\n",
        "    translation = service.translations().list(source='en', target=target_language, q=[response]).execute()\n",
        "\n",
        "    # Return the translated response\n",
        "    return translation['translations'][0]['translatedText']\n",
        "\n",
        "# Set the default language for the chatbot\n",
        "default_language = \"en\"\n",
        "\n",
        "# Start a conversation with the chatbot\n",
        "while True:\n",
        "    # Get the user's input\n",
        "    request = input(\"You: \")\n",
        "\n",
        "    # Determine the language of the user's input\n",
        "    language = service.detections().list(q=[request]).execute()\n",
        "    language = language['detections'][0][0]['language']\n",
        "\n",
        "    # If the language is not the default language, translate the user's input into the default language\n",
        "    if language != default_language:\n",
        "        request = service.translations().list(source=language, target=default_language, q=[request]).execute()\n",
        "        request = request['translations'][0]['translatedText']\n",
        "\n",
        "    # Get a response from the chatbot\n",
        "    response = chatbot.get_response(request).text\n",
        "\n",
        "    # Translate the response into the user's language\n",
        "    response = translate_response(response, language)\n",
        "\n",
        "    # Print the response\n",
        "    print(\"Chatbot: \" + response)\n"
      ],
      "metadata": {
        "id": "llW0zOonskem"
      },
      "execution_count": null,
      "outputs": []
    },
    {
      "cell_type": "code",
      "source": [
        "!pip install flask\n"
      ],
      "metadata": {
        "id": "g0LMK8dhtOha"
      },
      "execution_count": null,
      "outputs": []
    },
    {
      "cell_type": "code",
      "source": [
        "from flask import Flask, request, jsonify\n",
        "\n",
        "app = Flask(__name__)\n",
        "\n",
        "@app.route('/', methods=['POST'])\n",
        "def chatbot():\n",
        "    # Get the user's input from the request\n",
        "    request_json = request.get_json(force=True)\n",
        "    request_text = request_json['text']\n",
        "\n",
        "    # Process the user's input and get a response from the chatbot\n",
        "    response_text = chatbot.get_response(request_text).text\n",
        "\n",
        "    # Return the chatbot's response as JSON\n",
        "    return jsonify({\"text\": response_text})\n",
        "\n",
        "if __name__ == '__main__':\n",
        "    app.run()\n"
      ],
      "metadata": {
        "id": "06XCrslYtTa4"
      },
      "execution_count": null,
      "outputs": []
    },
    {
      "cell_type": "code",
      "source": [
        "!python app.py\n"
      ],
      "metadata": {
        "id": "Eh1jIxFctYC4"
      },
      "execution_count": null,
      "outputs": []
    },
    {
      "cell_type": "code",
      "source": [
        "!ngrok http 5000\n"
      ],
      "metadata": {
        "id": "N9Ygmf45tdbM"
      },
      "execution_count": null,
      "outputs": []
    },
    {
      "cell_type": "code",
      "source": [
        "!npx create-react-app"
      ],
      "metadata": {
        "id": "0yCxVzxBFVDV"
      },
      "execution_count": null,
      "outputs": []
    },
    {
      "cell_type": "code",
      "source": [
        "!npm install axios\n"
      ],
      "metadata": {
        "id": "tAV0Vqsnt5g2"
      },
      "execution_count": null,
      "outputs": []
    },
    {
      "cell_type": "code",
      "source": [
        "import React, { useState } from 'react';\n",
        "import axios from 'axios';\n",
        "\n",
        "\n",
        "async function getChatbotResponse(message) {\n",
        "  try {\n",
        "    const response = await axios.post('http://localhost:5000/', {\n",
        "      message: message\n",
        "    });\n",
        "    return response.data;\n",
        "  } catch (error) {\n",
        "    console.error(error);\n",
        "  }\n",
        "}\n",
        "\n",
        "\n",
        "function Chatbot() {\n",
        "  const [message, setMessage] = useState('');\n",
        "  const [response, setResponse] = useState('');\n",
        "\n",
        "  async function handleSubmit(event) {\n",
        "    event.preventDefault();\n",
        "    const chatbotResponse = await getChatbotResponse(message);\n",
        "    setResponse(chatbotResponse);\n",
        "  }\n",
        "\n",
        "  return (\n",
        "    <div className=\"flex flex-col items-center mt-10\">\n",
        "      <form className=\"w-full max-w-sm\" onSubmit={handleSubmit}>\n",
        "        <div className=\"flex items-center border-b border-teal-500 py-2\">\n",
        "          <input\n",
        "            className=\"appearance-none bg-transparent border-none w-full text-gray-700 mr-3 py-1 px-2 leading-tight focus:outline-none\"\n",
        "            type=\"text\"\n",
        "            placeholder=\"Enter your message\"\n",
        "            value={message}\n",
        "            onChange={event => setMessage(event.target.value)}\n",
        "          />\n",
        "          <button\n",
        "            className=\"flex-shrink-0 bg-teal-500 hover:bg-teal-700 border-teal-500 hover:border-teal-700 text-sm border-4 text-white py-1 px-2 rounded\"\n",
        "            type=\"submit\"\n",
        "          >\n",
        "            Send\n",
        "          </button>\n",
        "        </div>\n",
        "      </form>\n",
        "      <div className=\"w-full max-w-sm mt-10 text-center text-gray-700\">\n",
        "        {response}\n",
        "      </div>\n",
        "    </div>\n",
        "  );\n",
        "}\n",
        "\n",
        "export default Chatbot;\n"
      ],
      "metadata": {
        "id": "mrwPAW2ajRPo"
      },
      "execution_count": null,
      "outputs": []
    }
  ]
}