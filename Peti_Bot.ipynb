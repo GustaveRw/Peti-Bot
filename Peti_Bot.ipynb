{
  "nbformat": 4,
  "nbformat_minor": 0,
  "metadata": {
    "colab": {
      "provenance": [],
      "authorship_tag": "ABX9TyNvkW5J7j9SkxLotYA+chDU",
      "include_colab_link": true
    },
    "kernelspec": {
      "name": "python3",
      "display_name": "Python 3"
    },
    "language_info": {
      "name": "python"
    },
    "accelerator": "GPU",
    "gpuClass": "standard"
  },
  "cells": [
    {
      "cell_type": "markdown",
      "metadata": {
        "id": "view-in-github",
        "colab_type": "text"
      },
      "source": [
        "<a href=\"https://colab.research.google.com/github/GustaveRw/Peti-Bot/blob/main/Peti_Bot.ipynb\" target=\"_parent\"><img src=\"https://colab.research.google.com/assets/colab-badge.svg\" alt=\"Open In Colab\"/></a>"
      ]
    },
    {
      "cell_type": "markdown",
      "source": [
        "# Peti ChatBot"
      ],
      "metadata": {
        "id": "mLywQzgt_U5P"
      }
    },
    {
      "cell_type": "markdown",
      "source": [
        "Install the required Python libraries"
      ],
      "metadata": {
        "id": "7mk3rzUg_Ogh"
      }
    },
    {
      "cell_type": "code",
      "execution_count": 54,
      "metadata": {
        "id": "qelP36oO2vI4",
        "colab": {
          "base_uri": "https://localhost:8080/"
        },
        "outputId": "4b852d6e-0d8e-48cc-bae6-311a07f5ae9d"
      },
      "outputs": [
        {
          "output_type": "stream",
          "name": "stdout",
          "text": [
            "Looking in indexes: https://pypi.org/simple, https://us-python.pkg.dev/colab-wheels/public/simple/\n",
            "Requirement already satisfied: googletrans in /usr/local/lib/python3.8/dist-packages (3.1.0a0)\n",
            "Requirement already satisfied: httpx==0.13.3 in /usr/local/lib/python3.8/dist-packages (from googletrans) (0.13.3)\n",
            "Requirement already satisfied: httpcore==0.9.* in /usr/local/lib/python3.8/dist-packages (from httpx==0.13.3->googletrans) (0.9.1)\n",
            "Requirement already satisfied: rfc3986<2,>=1.3 in /usr/local/lib/python3.8/dist-packages (from httpx==0.13.3->googletrans) (1.5.0)\n",
            "Requirement already satisfied: certifi in /usr/local/lib/python3.8/dist-packages (from httpx==0.13.3->googletrans) (2022.9.24)\n",
            "Requirement already satisfied: chardet==3.* in /usr/local/lib/python3.8/dist-packages (from httpx==0.13.3->googletrans) (3.0.4)\n",
            "Requirement already satisfied: sniffio in /usr/local/lib/python3.8/dist-packages (from httpx==0.13.3->googletrans) (1.3.0)\n",
            "Requirement already satisfied: idna==2.* in /usr/local/lib/python3.8/dist-packages (from httpx==0.13.3->googletrans) (2.10)\n",
            "Requirement already satisfied: hstspreload in /usr/local/lib/python3.8/dist-packages (from httpx==0.13.3->googletrans) (2022.12.1)\n",
            "Requirement already satisfied: h11<0.10,>=0.8 in /usr/local/lib/python3.8/dist-packages (from httpcore==0.9.*->httpx==0.13.3->googletrans) (0.9.0)\n",
            "Requirement already satisfied: h2==3.* in /usr/local/lib/python3.8/dist-packages (from httpcore==0.9.*->httpx==0.13.3->googletrans) (3.2.0)\n",
            "Requirement already satisfied: hpack<4,>=3.0 in /usr/local/lib/python3.8/dist-packages (from h2==3.*->httpcore==0.9.*->httpx==0.13.3->googletrans) (3.0.0)\n",
            "Requirement already satisfied: hyperframe<6,>=5.2.0 in /usr/local/lib/python3.8/dist-packages (from h2==3.*->httpcore==0.9.*->httpx==0.13.3->googletrans) (5.2.0)\n"
          ]
        }
      ],
      "source": [
        "!pip install googletrans\n"
      ]
    },
    {
      "cell_type": "code",
      "source": [
        "!pip install chatterbot"
      ],
      "metadata": {
        "id": "kwyH_ecD6f0-",
        "colab": {
          "base_uri": "https://localhost:8080/",
          "height": 817
        },
        "outputId": "9c58c8dd-7d82-46e4-81c5-34a9ccec8214"
      },
      "execution_count": 55,
      "outputs": [
        {
          "output_type": "stream",
          "name": "stdout",
          "text": [
            "Looking in indexes: https://pypi.org/simple, https://us-python.pkg.dev/colab-wheels/public/simple/\n",
            "Requirement already satisfied: chatterbot in /usr/local/lib/python3.8/dist-packages (1.0.5)\n",
            "Requirement already satisfied: pytz in /usr/local/lib/python3.8/dist-packages (from chatterbot) (2022.6)\n",
            "Requirement already satisfied: mathparse<0.2,>=0.1 in /usr/local/lib/python3.8/dist-packages (from chatterbot) (0.1.2)\n",
            "Requirement already satisfied: nltk<4.0,>=3.2 in /usr/local/lib/python3.8/dist-packages (from chatterbot) (3.7)\n",
            "Requirement already satisfied: sqlalchemy<1.3,>=1.2 in /usr/local/lib/python3.8/dist-packages (from chatterbot) (1.2.19)\n",
            "Collecting pyyaml<5.2,>=5.1\n",
            "  Using cached PyYAML-5.1.2-cp38-cp38-linux_x86_64.whl\n",
            "Requirement already satisfied: spacy<2.2,>=2.1 in /usr/local/lib/python3.8/dist-packages (from chatterbot) (2.1.9)\n",
            "Requirement already satisfied: pymongo<4.0,>=3.3 in /usr/local/lib/python3.8/dist-packages (from chatterbot) (3.13.0)\n",
            "Requirement already satisfied: python-dateutil<2.8,>=2.7 in /usr/local/lib/python3.8/dist-packages (from chatterbot) (2.7.5)\n",
            "Requirement already satisfied: pint>=0.8.1 in /usr/local/lib/python3.8/dist-packages (from chatterbot) (0.20.1)\n",
            "Requirement already satisfied: click in /usr/local/lib/python3.8/dist-packages (from nltk<4.0,>=3.2->chatterbot) (7.1.2)\n",
            "Requirement already satisfied: regex>=2021.8.3 in /usr/local/lib/python3.8/dist-packages (from nltk<4.0,>=3.2->chatterbot) (2022.6.2)\n",
            "Requirement already satisfied: tqdm in /usr/local/lib/python3.8/dist-packages (from nltk<4.0,>=3.2->chatterbot) (4.64.1)\n",
            "Requirement already satisfied: joblib in /usr/local/lib/python3.8/dist-packages (from nltk<4.0,>=3.2->chatterbot) (1.2.0)\n",
            "Requirement already satisfied: six>=1.5 in /usr/local/lib/python3.8/dist-packages (from python-dateutil<2.8,>=2.7->chatterbot) (1.15.0)\n",
            "Requirement already satisfied: plac<1.0.0,>=0.9.6 in /usr/local/lib/python3.8/dist-packages (from spacy<2.2,>=2.1->chatterbot) (0.9.6)\n",
            "Requirement already satisfied: requests<3.0.0,>=2.13.0 in /usr/local/lib/python3.8/dist-packages (from spacy<2.2,>=2.1->chatterbot) (2.23.0)\n",
            "Requirement already satisfied: preshed<2.1.0,>=2.0.1 in /usr/local/lib/python3.8/dist-packages (from spacy<2.2,>=2.1->chatterbot) (2.0.1)\n",
            "Requirement already satisfied: cymem<2.1.0,>=2.0.2 in /usr/local/lib/python3.8/dist-packages (from spacy<2.2,>=2.1->chatterbot) (2.0.7)\n",
            "Requirement already satisfied: murmurhash<1.1.0,>=0.28.0 in /usr/local/lib/python3.8/dist-packages (from spacy<2.2,>=2.1->chatterbot) (1.0.9)\n",
            "Requirement already satisfied: wasabi<1.1.0,>=0.2.0 in /usr/local/lib/python3.8/dist-packages (from spacy<2.2,>=2.1->chatterbot) (0.10.1)\n",
            "Requirement already satisfied: srsly<1.1.0,>=0.0.6 in /usr/local/lib/python3.8/dist-packages (from spacy<2.2,>=2.1->chatterbot) (1.0.6)\n",
            "Requirement already satisfied: numpy>=1.15.0 in /usr/local/lib/python3.8/dist-packages (from spacy<2.2,>=2.1->chatterbot) (1.21.6)\n",
            "Requirement already satisfied: blis<0.3.0,>=0.2.2 in /usr/local/lib/python3.8/dist-packages (from spacy<2.2,>=2.1->chatterbot) (0.2.4)\n",
            "Requirement already satisfied: thinc<7.1.0,>=7.0.8 in /usr/local/lib/python3.8/dist-packages (from spacy<2.2,>=2.1->chatterbot) (7.0.8)\n",
            "Requirement already satisfied: idna<3,>=2.5 in /usr/local/lib/python3.8/dist-packages (from requests<3.0.0,>=2.13.0->spacy<2.2,>=2.1->chatterbot) (2.10)\n",
            "Requirement already satisfied: urllib3!=1.25.0,!=1.25.1,<1.26,>=1.21.1 in /usr/local/lib/python3.8/dist-packages (from requests<3.0.0,>=2.13.0->spacy<2.2,>=2.1->chatterbot) (1.24.3)\n",
            "Requirement already satisfied: chardet<4,>=3.0.2 in /usr/local/lib/python3.8/dist-packages (from requests<3.0.0,>=2.13.0->spacy<2.2,>=2.1->chatterbot) (3.0.4)\n",
            "Requirement already satisfied: certifi>=2017.4.17 in /usr/local/lib/python3.8/dist-packages (from requests<3.0.0,>=2.13.0->spacy<2.2,>=2.1->chatterbot) (2022.9.24)\n",
            "Installing collected packages: pyyaml\n",
            "  Attempting uninstall: pyyaml\n",
            "    Found existing installation: PyYAML 3.13\n",
            "    Uninstalling PyYAML-3.13:\n",
            "      Successfully uninstalled PyYAML-3.13\n",
            "\u001b[31mERROR: pip's dependency resolver does not currently take into account all the packages that are installed. This behaviour is the source of the following dependency conflicts.\n",
            "dask 2022.2.1 requires pyyaml>=5.3.1, but you have pyyaml 5.1.2 which is incompatible.\n",
            "chatterbot-corpus 1.2.0 requires PyYAML<4.0,>=3.12, but you have pyyaml 5.1.2 which is incompatible.\u001b[0m\n",
            "Successfully installed pyyaml-5.1.2\n"
          ]
        },
        {
          "output_type": "display_data",
          "data": {
            "application/vnd.colab-display-data+json": {
              "pip_warning": {
                "packages": [
                  "yaml"
                ]
              }
            }
          },
          "metadata": {}
        }
      ]
    },
    {
      "cell_type": "code",
      "source": [
        "!pip install chatterbot-corpus"
      ],
      "metadata": {
        "id": "ASeraTVE-jys",
        "colab": {
          "base_uri": "https://localhost:8080/",
          "height": 349
        },
        "outputId": "d353df77-3480-4cea-a03c-7723790ad5dd"
      },
      "execution_count": 56,
      "outputs": [
        {
          "output_type": "stream",
          "name": "stdout",
          "text": [
            "Looking in indexes: https://pypi.org/simple, https://us-python.pkg.dev/colab-wheels/public/simple/\n",
            "Requirement already satisfied: chatterbot-corpus in /usr/local/lib/python3.8/dist-packages (1.2.0)\n",
            "Collecting PyYAML<4.0,>=3.12\n",
            "  Using cached PyYAML-3.13-cp38-cp38-linux_x86_64.whl\n",
            "Installing collected packages: PyYAML\n",
            "  Attempting uninstall: PyYAML\n",
            "    Found existing installation: PyYAML 5.1.2\n",
            "    Uninstalling PyYAML-5.1.2:\n",
            "      Successfully uninstalled PyYAML-5.1.2\n",
            "\u001b[31mERROR: pip's dependency resolver does not currently take into account all the packages that are installed. This behaviour is the source of the following dependency conflicts.\n",
            "dask 2022.2.1 requires pyyaml>=5.3.1, but you have pyyaml 3.13 which is incompatible.\n",
            "chatterbot 1.0.5 requires pyyaml<5.2,>=5.1, but you have pyyaml 3.13 which is incompatible.\u001b[0m\n",
            "Successfully installed PyYAML-3.13\n"
          ]
        },
        {
          "output_type": "display_data",
          "data": {
            "application/vnd.colab-display-data+json": {
              "pip_warning": {
                "packages": [
                  "yaml"
                ]
              }
            }
          },
          "metadata": {}
        }
      ]
    },
    {
      "cell_type": "markdown",
      "source": [
        "Import the necessary libraries in your Python script:"
      ],
      "metadata": {
        "id": "Hdk2L-EV_E0J"
      }
    },
    {
      "cell_type": "code",
      "source": [
        "from chatterbot import ChatBot\n",
        "from chatterbot.trainers import ChatterBotCorpusTrainer\n",
        "from googletrans import Translator\n"
      ],
      "metadata": {
        "id": "w2G5FjhH5tbF"
      },
      "execution_count": 57,
      "outputs": []
    },
    {
      "cell_type": "markdown",
      "source": [
        "Initialize the ChatBot and set a trainer for it:"
      ],
      "metadata": {
        "id": "MvV0oVGX_FgZ"
      }
    },
    {
      "cell_type": "code",
      "source": [
        "chatbot = ChatBot(\"Peti Chatbot\")\n",
        "trainer = ChatterBotCorpusTrainer(chatbot)\n"
      ],
      "metadata": {
        "id": "b9XZ5-PS-z-_",
        "colab": {
          "base_uri": "https://localhost:8080/"
        },
        "outputId": "fa38779c-4b7b-4c0a-9480-36b6d10e16f4"
      },
      "execution_count": 58,
      "outputs": [
        {
          "output_type": "stream",
          "name": "stderr",
          "text": [
            "[nltk_data] Downloading package stopwords to /root/nltk_data...\n",
            "[nltk_data]   Package stopwords is already up-to-date!\n",
            "[nltk_data] Downloading package averaged_perceptron_tagger to\n",
            "[nltk_data]     /root/nltk_data...\n",
            "[nltk_data]   Package averaged_perceptron_tagger is already up-to-\n",
            "[nltk_data]       date!\n"
          ]
        }
      ]
    },
    {
      "cell_type": "markdown",
      "source": [
        "Train the chatbot on a corpus of available languages. This will allow the chatbot to understand and respond to input in multiple languages"
      ],
      "metadata": {
        "id": "4epLvF4A_eTW"
      }
    },
    {
      "cell_type": "code",
      "source": [
        "trainer.train(\"chatterbot.corpus.english\",\n",
        "              \"chatterbot.corpus.french\",\n",
        "              \"chatterbot.corpus.german\")\n"
      ],
      "metadata": {
        "id": "X4ePJWKm_fRu",
        "colab": {
          "base_uri": "https://localhost:8080/"
        },
        "outputId": "7b4c1f88-96bf-4c3a-e3ca-ba2bc073a99a"
      },
      "execution_count": 59,
      "outputs": [
        {
          "output_type": "stream",
          "name": "stdout",
          "text": [
            "Training ai.yml: [####################] 100%\n",
            "Training botprofile.yml: [####################] 100%\n",
            "Training computers.yml: [####################] 100%\n",
            "Training conversations.yml: [####################] 100%\n",
            "Training emotion.yml: [####################] 100%\n",
            "Training food.yml: [####################] 100%\n",
            "Training gossip.yml: [####################] 100%\n",
            "Training greetings.yml: [####################] 100%\n",
            "Training health.yml: [####################] 100%\n",
            "Training history.yml: [####################] 100%\n",
            "Training humor.yml: [####################] 100%\n",
            "Training literature.yml: [####################] 100%\n",
            "Training money.yml: [####################] 100%\n",
            "Training movies.yml: [####################] 100%\n",
            "Training politics.yml: [####################] 100%\n",
            "Training psychology.yml: [####################] 100%\n",
            "Training science.yml: [####################] 100%\n",
            "Training sports.yml: [####################] 100%\n",
            "Training trivia.yml: [####################] 100%\n",
            "Training botprofile.yml: [####################] 100%\n",
            "Training conversations.yml: [####################] 100%\n",
            "Training food.yml: [####################] 100%\n",
            "Training greetings.yml: [####################] 100%\n",
            "Training trivia.yml: [####################] 100%\n",
            "Training conversations.yml: [####################] 100%\n",
            "Training greetings.yml: [####################] 100%\n"
          ]
        }
      ]
    },
    {
      "cell_type": "markdown",
      "source": [
        "function that takes in a user's input message and translates it to the desired language"
      ],
      "metadata": {
        "id": "YdLkxZ-z_3gP"
      }
    },
    {
      "cell_type": "code",
      "source": [
        "def translate_input(message, src_language, dest_language):\n",
        "    translator = Translator()\n",
        "    translated_message = translator.translate(message, src=src_language, dest=dest_language).text\n",
        "    return translated_message\n"
      ],
      "metadata": {
        "id": "wchV08JC_7DH"
      },
      "execution_count": 60,
      "outputs": []
    },
    {
      "cell_type": "markdown",
      "source": [
        "Using the translate_input() function to translate the user's input message and pass it to the chatbot to generate a response"
      ],
      "metadata": {
        "id": "zm6kvSp3ABde"
      }
    },
    {
      "cell_type": "code",
      "source": [
        "def generate_response(message, src_language, dest_language):\n",
        "    translated_message = translate_input(message, src_language, dest_language)\n",
        "    response = chatbot.get_response(translated_message)\n",
        "    return response\n"
      ],
      "metadata": {
        "id": "wbleJomnAE6a"
      },
      "execution_count": 61,
      "outputs": []
    },
    {
      "cell_type": "markdown",
      "source": [
        "Using the generate_response() function to get a response from the chatbot in the desired language"
      ],
      "metadata": {
        "id": "MHYXy_LZAL9d"
      }
    },
    {
      "cell_type": "code",
      "source": [
        "\n",
        "response = generate_response(\"How are you?\", \"en\", \"fr\")\n",
        "print(response)\n"
      ],
      "metadata": {
        "id": "B7JkZsseAPFR",
        "outputId": "49c39304-10e6-4999-87c1-59df04b61e2f",
        "colab": {
          "base_uri": "https://localhost:8080/"
        }
      },
      "execution_count": 62,
      "outputs": [
        {
          "output_type": "stream",
          "name": "stdout",
          "text": [
            "Je vais bien merci, et toi ?\n"
          ]
        }
      ]
    },
    {
      "cell_type": "markdown",
      "source": [
        "## Create a web server using Flask"
      ],
      "metadata": {
        "id": "3A5u51r6CjN4"
      }
    },
    {
      "cell_type": "markdown",
      "source": [
        "Installing Flask"
      ],
      "metadata": {
        "id": "SisyXUyFCoGH"
      }
    },
    {
      "cell_type": "code",
      "source": [
        "!pip install Flask\n",
        "\n",
        "!pip install Flask-Cors\n"
      ],
      "metadata": {
        "id": "1OScM-g-Cu02",
        "colab": {
          "base_uri": "https://localhost:8080/"
        },
        "outputId": "146f4638-a3df-48e1-8870-2d242cef8925"
      },
      "execution_count": 63,
      "outputs": [
        {
          "output_type": "stream",
          "name": "stdout",
          "text": [
            "Looking in indexes: https://pypi.org/simple, https://us-python.pkg.dev/colab-wheels/public/simple/\n",
            "Requirement already satisfied: Flask in /usr/local/lib/python3.8/dist-packages (1.1.4)\n",
            "Requirement already satisfied: click<8.0,>=5.1 in /usr/local/lib/python3.8/dist-packages (from Flask) (7.1.2)\n",
            "Requirement already satisfied: itsdangerous<2.0,>=0.24 in /usr/local/lib/python3.8/dist-packages (from Flask) (1.1.0)\n",
            "Requirement already satisfied: Jinja2<3.0,>=2.10.1 in /usr/local/lib/python3.8/dist-packages (from Flask) (2.11.3)\n",
            "Requirement already satisfied: Werkzeug<2.0,>=0.15 in /usr/local/lib/python3.8/dist-packages (from Flask) (1.0.1)\n",
            "Requirement already satisfied: MarkupSafe>=0.23 in /usr/local/lib/python3.8/dist-packages (from Jinja2<3.0,>=2.10.1->Flask) (2.0.1)\n",
            "Looking in indexes: https://pypi.org/simple, https://us-python.pkg.dev/colab-wheels/public/simple/\n",
            "Requirement already satisfied: Flask-Cors in /usr/local/lib/python3.8/dist-packages (3.0.10)\n",
            "Requirement already satisfied: Flask>=0.9 in /usr/local/lib/python3.8/dist-packages (from Flask-Cors) (1.1.4)\n",
            "Requirement already satisfied: Six in /usr/local/lib/python3.8/dist-packages (from Flask-Cors) (1.15.0)\n",
            "Requirement already satisfied: Jinja2<3.0,>=2.10.1 in /usr/local/lib/python3.8/dist-packages (from Flask>=0.9->Flask-Cors) (2.11.3)\n",
            "Requirement already satisfied: click<8.0,>=5.1 in /usr/local/lib/python3.8/dist-packages (from Flask>=0.9->Flask-Cors) (7.1.2)\n",
            "Requirement already satisfied: itsdangerous<2.0,>=0.24 in /usr/local/lib/python3.8/dist-packages (from Flask>=0.9->Flask-Cors) (1.1.0)\n",
            "Requirement already satisfied: Werkzeug<2.0,>=0.15 in /usr/local/lib/python3.8/dist-packages (from Flask>=0.9->Flask-Cors) (1.0.1)\n",
            "Requirement already satisfied: MarkupSafe>=0.23 in /usr/local/lib/python3.8/dist-packages (from Jinja2<3.0,>=2.10.1->Flask>=0.9->Flask-Cors) (2.0.1)\n"
          ]
        }
      ]
    },
    {
      "cell_type": "markdown",
      "source": [
        "Importing Flask and initialize a Flask application"
      ],
      "metadata": {
        "id": "mcSHs_4nEMDg"
      }
    },
    {
      "cell_type": "code",
      "source": [
        "from flask import Flask, request\n",
        "from flask_cors import CORS, cross_origin\n",
        "\n",
        "app = Flask(__name__)\n",
        "CORS(app, resources={r\"/api/*\":{\"origins\":\"*\"}})\n",
        "app.config['CORS HEADERS'] = 'Content-Type'\n"
      ],
      "metadata": {
        "id": "DAVNjP1OEGHH"
      },
      "execution_count": 64,
      "outputs": []
    },
    {
      "cell_type": "markdown",
      "source": [
        "Defining an API endpoint that will handle user input and return responses from the chatbot"
      ],
      "metadata": {
        "id": "9ax08TilESQy"
      }
    },
    {
      "cell_type": "code",
      "source": [
        "@app.route(\"/chat\", methods=[\"POST\"])\n",
        "@cross_origin()\n",
        "def chat():\n",
        "    user_input = request.form[\"user_input\"]\n",
        "    src_language = request.form[\"src_language\"]\n",
        "    dest_language = request.form[\"dest_language\"]\n",
        "\n",
        "    response = generate_response(user_input, src_language, dest_language)\n",
        "\n",
        "    return response\n"
      ],
      "metadata": {
        "id": "u_ohwVHQERmp"
      },
      "execution_count": 65,
      "outputs": []
    },
    {
      "cell_type": "markdown",
      "source": [
        "Starting the Flask web server"
      ],
      "metadata": {
        "id": "n0AkT9b8EkyN"
      }
    },
    {
      "cell_type": "markdown",
      "source": [
        "Installing WSGI Server for production "
      ],
      "metadata": {
        "id": "sWnnL4KIHrjy"
      }
    },
    {
      "cell_type": "code",
      "source": [
        "!pip install waitress"
      ],
      "metadata": {
        "colab": {
          "base_uri": "https://localhost:8080/"
        },
        "id": "NGID1z6uHr_Q",
        "outputId": "4e05f284-2a51-4c0c-8cd0-ba9314259984"
      },
      "execution_count": 66,
      "outputs": [
        {
          "output_type": "stream",
          "name": "stdout",
          "text": [
            "Looking in indexes: https://pypi.org/simple, https://us-python.pkg.dev/colab-wheels/public/simple/\n",
            "Requirement already satisfied: waitress in /usr/local/lib/python3.8/dist-packages (2.1.2)\n"
          ]
        }
      ]
    },
    {
      "cell_type": "code",
      "source": [
        "if __name__ == \"__main__\":\n",
        "    # from waitress import serve\n",
        "    app.run()\n",
        "    # serve(app, host=\"0.0.0.0\", port=8080)\n",
        "    \n"
      ],
      "metadata": {
        "id": "CC6JoIfXEoZF",
        "outputId": "cc182406-0eec-4044-eba0-2b63e0ceed44",
        "colab": {
          "base_uri": "https://localhost:8080/"
        }
      },
      "execution_count": 67,
      "outputs": [
        {
          "output_type": "stream",
          "name": "stdout",
          "text": [
            " * Serving Flask app \"__main__\" (lazy loading)\n",
            " * Environment: production\n",
            "\u001b[31m   WARNING: This is a development server. Do not use it in a production deployment.\u001b[0m\n",
            "\u001b[2m   Use a production WSGI server instead.\u001b[0m\n",
            " * Debug mode: off\n"
          ]
        },
        {
          "output_type": "stream",
          "name": "stderr",
          "text": [
            "INFO:werkzeug: * Running on http://127.0.0.1:5000/ (Press CTRL+C to quit)\n"
          ]
        }
      ]
    },
    {
      "cell_type": "markdown",
      "source": [
        "Installing and Importing the Flask-CORS library and enable CORS"
      ],
      "metadata": {
        "id": "mZrULOaYfijo"
      }
    },
    {
      "cell_type": "code",
      "source": [
        "!pip install -U flask-cors"
      ],
      "metadata": {
        "colab": {
          "base_uri": "https://localhost:8080/"
        },
        "id": "2ZDB7UGCfy29",
        "outputId": "a70ef4a1-3f4d-422b-f1b9-ada49ac71f61"
      },
      "execution_count": 68,
      "outputs": [
        {
          "output_type": "stream",
          "name": "stdout",
          "text": [
            "Looking in indexes: https://pypi.org/simple, https://us-python.pkg.dev/colab-wheels/public/simple/\n",
            "Requirement already satisfied: flask-cors in /usr/local/lib/python3.8/dist-packages (3.0.10)\n",
            "Requirement already satisfied: Flask>=0.9 in /usr/local/lib/python3.8/dist-packages (from flask-cors) (1.1.4)\n",
            "Requirement already satisfied: Six in /usr/local/lib/python3.8/dist-packages (from flask-cors) (1.15.0)\n",
            "Requirement already satisfied: itsdangerous<2.0,>=0.24 in /usr/local/lib/python3.8/dist-packages (from Flask>=0.9->flask-cors) (1.1.0)\n",
            "Requirement already satisfied: Werkzeug<2.0,>=0.15 in /usr/local/lib/python3.8/dist-packages (from Flask>=0.9->flask-cors) (1.0.1)\n",
            "Requirement already satisfied: click<8.0,>=5.1 in /usr/local/lib/python3.8/dist-packages (from Flask>=0.9->flask-cors) (7.1.2)\n",
            "Requirement already satisfied: Jinja2<3.0,>=2.10.1 in /usr/local/lib/python3.8/dist-packages (from Flask>=0.9->flask-cors) (2.11.3)\n",
            "Requirement already satisfied: MarkupSafe>=0.23 in /usr/local/lib/python3.8/dist-packages (from Jinja2<3.0,>=2.10.1->Flask>=0.9->flask-cors) (2.0.1)\n"
          ]
        }
      ]
    },
    {
      "cell_type": "code",
      "source": [
        "from flask_cors import CORS\n",
        "\n",
        "app = Flask(__name__)\n",
        "CORS(app)\n"
      ],
      "metadata": {
        "colab": {
          "base_uri": "https://localhost:8080/"
        },
        "id": "FEvAufaPfeEj",
        "outputId": "0bbf4f37-c8c6-404f-b40b-3ea18ae44c07"
      },
      "execution_count": 69,
      "outputs": [
        {
          "output_type": "execute_result",
          "data": {
            "text/plain": [
              "<flask_cors.extension.CORS at 0x7ff07720a370>"
            ]
          },
          "metadata": {},
          "execution_count": 69
        }
      ]
    },
    {
      "cell_type": "markdown",
      "source": [
        "In the Flask web server, use the jsonify() function to format the response from the chatbot as JSON"
      ],
      "metadata": {
        "id": "AJnM63oQgFKg"
      }
    },
    {
      "cell_type": "code",
      "source": [
        "from flask import jsonify\n",
        "\n",
        "@app.route(\"/chat\", methods=[\"POST\"])\n",
        "def chat():\n",
        "    user_input = request.form[\"user_input\"]\n",
        "    src_language = request.form[\"src_language\"]\n",
        "    dest_language = request.form[\"dest_language\"]\n",
        "\n",
        "    response = generate_response(user_input, src_language, dest_language)\n",
        "\n",
        "    return jsonify({\"response\": response})\n"
      ],
      "metadata": {
        "id": "e7NInfO3gAGs"
      },
      "execution_count": 70,
      "outputs": []
    }
  ]
}