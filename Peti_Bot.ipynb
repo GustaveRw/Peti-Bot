{
  "nbformat": 4,
  "nbformat_minor": 0,
  "metadata": {
    "colab": {
      "provenance": [],
      "authorship_tag": "ABX9TyO4f0GcxGsH1Lf+WxaoBlfh",
      "include_colab_link": true
    },
    "kernelspec": {
      "name": "python3",
      "display_name": "Python 3"
    },
    "language_info": {
      "name": "python"
    },
    "accelerator": "GPU",
    "gpuClass": "standard"
  },
  "cells": [
    {
      "cell_type": "markdown",
      "metadata": {
        "id": "view-in-github",
        "colab_type": "text"
      },
      "source": [
        "<a href=\"https://colab.research.google.com/github/GustaveRw/Peti-Bot/blob/main/Peti_Bot.ipynb\" target=\"_parent\"><img src=\"https://colab.research.google.com/assets/colab-badge.svg\" alt=\"Open In Colab\"/></a>"
      ]
    },
    {
      "cell_type": "markdown",
      "source": [
        "# Peti ChatBot"
      ],
      "metadata": {
        "id": "mLywQzgt_U5P"
      }
    },
    {
      "cell_type": "markdown",
      "source": [
        "Install the required Python libraries"
      ],
      "metadata": {
        "id": "7mk3rzUg_Ogh"
      }
    },
    {
      "cell_type": "code",
      "execution_count": 23,
      "metadata": {
        "id": "qelP36oO2vI4",
        "colab": {
          "base_uri": "https://localhost:8080/"
        },
        "outputId": "10e9bc1b-ef2e-4686-c7ed-7b05c97a6675"
      },
      "outputs": [
        {
          "output_type": "stream",
          "name": "stdout",
          "text": [
            "Looking in indexes: https://pypi.org/simple, https://us-python.pkg.dev/colab-wheels/public/simple/\n",
            "Requirement already satisfied: googletrans in /usr/local/lib/python3.8/dist-packages (3.0.0)\n",
            "Requirement already satisfied: httpx==0.13.3 in /usr/local/lib/python3.8/dist-packages (from googletrans) (0.13.3)\n",
            "Requirement already satisfied: certifi in /usr/local/lib/python3.8/dist-packages (from httpx==0.13.3->googletrans) (2022.9.24)\n",
            "Requirement already satisfied: idna==2.* in /usr/local/lib/python3.8/dist-packages (from httpx==0.13.3->googletrans) (2.10)\n",
            "Requirement already satisfied: rfc3986<2,>=1.3 in /usr/local/lib/python3.8/dist-packages (from httpx==0.13.3->googletrans) (1.5.0)\n",
            "Requirement already satisfied: chardet==3.* in /usr/local/lib/python3.8/dist-packages (from httpx==0.13.3->googletrans) (3.0.4)\n",
            "Requirement already satisfied: hstspreload in /usr/local/lib/python3.8/dist-packages (from httpx==0.13.3->googletrans) (2022.12.1)\n",
            "Requirement already satisfied: httpcore==0.9.* in /usr/local/lib/python3.8/dist-packages (from httpx==0.13.3->googletrans) (0.9.1)\n",
            "Requirement already satisfied: sniffio in /usr/local/lib/python3.8/dist-packages (from httpx==0.13.3->googletrans) (1.3.0)\n",
            "Requirement already satisfied: h11<0.10,>=0.8 in /usr/local/lib/python3.8/dist-packages (from httpcore==0.9.*->httpx==0.13.3->googletrans) (0.9.0)\n",
            "Requirement already satisfied: h2==3.* in /usr/local/lib/python3.8/dist-packages (from httpcore==0.9.*->httpx==0.13.3->googletrans) (3.2.0)\n",
            "Requirement already satisfied: hpack<4,>=3.0 in /usr/local/lib/python3.8/dist-packages (from h2==3.*->httpcore==0.9.*->httpx==0.13.3->googletrans) (3.0.0)\n",
            "Requirement already satisfied: hyperframe<6,>=5.2.0 in /usr/local/lib/python3.8/dist-packages (from h2==3.*->httpcore==0.9.*->httpx==0.13.3->googletrans) (5.2.0)\n"
          ]
        }
      ],
      "source": [
        "!pip install googletrans\n",
        "\n"
      ]
    },
    {
      "cell_type": "code",
      "source": [
        "!!apt-get install chatterbot"
      ],
      "metadata": {
        "id": "kwyH_ecD6f0-",
        "colab": {
          "base_uri": "https://localhost:8080/"
        },
        "outputId": "c78da32f-2ad0-4e09-bdd5-20ae414414ad"
      },
      "execution_count": 24,
      "outputs": [
        {
          "output_type": "execute_result",
          "data": {
            "text/plain": [
              "['',\n",
              " 'Reading package lists... 0%',\n",
              " '',\n",
              " 'Reading package lists... 0%',\n",
              " '',\n",
              " 'Reading package lists... 0%',\n",
              " '',\n",
              " 'Reading package lists... 4%',\n",
              " '',\n",
              " 'Reading package lists... 4%',\n",
              " '',\n",
              " 'Reading package lists... 4%',\n",
              " '',\n",
              " 'Reading package lists... 4%',\n",
              " '',\n",
              " 'Reading package lists... 43%',\n",
              " '',\n",
              " 'Reading package lists... 43%',\n",
              " '',\n",
              " 'Reading package lists... 43%',\n",
              " '',\n",
              " 'Reading package lists... 43%',\n",
              " '',\n",
              " 'Reading package lists... 56%',\n",
              " '',\n",
              " 'Reading package lists... 56%',\n",
              " '',\n",
              " 'Reading package lists... 58%',\n",
              " '',\n",
              " 'Reading package lists... 61%',\n",
              " '',\n",
              " 'Reading package lists... 61%',\n",
              " '',\n",
              " 'Reading package lists... 69%',\n",
              " '',\n",
              " 'Reading package lists... 69%',\n",
              " '',\n",
              " 'Reading package lists... 69%',\n",
              " '',\n",
              " 'Reading package lists... 69%',\n",
              " '',\n",
              " 'Reading package lists... 69%',\n",
              " '',\n",
              " 'Reading package lists... 69%',\n",
              " '',\n",
              " 'Reading package lists... 69%',\n",
              " '',\n",
              " 'Reading package lists... 69%',\n",
              " '',\n",
              " 'Reading package lists... 80%',\n",
              " '',\n",
              " 'Reading package lists... 80%',\n",
              " '',\n",
              " 'Reading package lists... 85%',\n",
              " '',\n",
              " 'Reading package lists... 85%',\n",
              " '',\n",
              " 'Reading package lists... 90%',\n",
              " '',\n",
              " 'Reading package lists... 90%',\n",
              " '',\n",
              " 'Reading package lists... 90%',\n",
              " '',\n",
              " 'Reading package lists... 90%',\n",
              " '',\n",
              " 'Reading package lists... 91%',\n",
              " '',\n",
              " 'Reading package lists... 91%',\n",
              " '',\n",
              " 'Reading package lists... 91%',\n",
              " '',\n",
              " 'Reading package lists... 91%',\n",
              " '',\n",
              " 'Reading package lists... 94%',\n",
              " '',\n",
              " 'Reading package lists... 94%',\n",
              " '',\n",
              " 'Reading package lists... 94%',\n",
              " '',\n",
              " 'Reading package lists... 94%',\n",
              " '',\n",
              " 'Reading package lists... 98%',\n",
              " '',\n",
              " 'Reading package lists... 98%',\n",
              " '',\n",
              " 'Reading package lists... 98%',\n",
              " '',\n",
              " 'Reading package lists... 98%',\n",
              " '',\n",
              " 'Reading package lists... 99%',\n",
              " '',\n",
              " 'Reading package lists... 99%',\n",
              " '',\n",
              " 'Reading package lists... Done',\n",
              " '',\n",
              " 'Building dependency tree... 0%',\n",
              " '',\n",
              " 'Building dependency tree... 0%',\n",
              " '',\n",
              " 'Building dependency tree... 50%',\n",
              " '',\n",
              " 'Building dependency tree... 50%',\n",
              " '',\n",
              " 'Building dependency tree       ',\n",
              " '',\n",
              " 'Reading state information... 0%',\n",
              " '',\n",
              " 'Reading state information... 0%',\n",
              " '',\n",
              " 'Reading state information... Done',\n",
              " 'E: Unable to locate package chatterbot']"
            ]
          },
          "metadata": {},
          "execution_count": 24
        }
      ]
    },
    {
      "cell_type": "code",
      "source": [
        "!pip install chatterbot-corpus"
      ],
      "metadata": {
        "id": "ASeraTVE-jys",
        "colab": {
          "base_uri": "https://localhost:8080/"
        },
        "outputId": "1d802a02-d69e-40a0-e202-503e6da7ff82"
      },
      "execution_count": 25,
      "outputs": [
        {
          "output_type": "stream",
          "name": "stdout",
          "text": [
            "Looking in indexes: https://pypi.org/simple, https://us-python.pkg.dev/colab-wheels/public/simple/\n",
            "Requirement already satisfied: chatterbot-corpus in /usr/local/lib/python3.8/dist-packages (1.2.0)\n",
            "Requirement already satisfied: PyYAML<4.0,>=3.12 in /usr/local/lib/python3.8/dist-packages (from chatterbot-corpus) (3.13)\n"
          ]
        }
      ]
    },
    {
      "cell_type": "markdown",
      "source": [
        "Import the necessary libraries in your Python script:"
      ],
      "metadata": {
        "id": "Hdk2L-EV_E0J"
      }
    },
    {
      "cell_type": "code",
      "source": [
        "from chatterbot import ChatBot\n",
        "from chatterbot.trainers import ChatterBotCorpusTrainer\n",
        "from googletrans import Translator\n"
      ],
      "metadata": {
        "id": "w2G5FjhH5tbF"
      },
      "execution_count": 26,
      "outputs": []
    },
    {
      "cell_type": "markdown",
      "source": [
        "Initialize the ChatBot and set a trainer for it:"
      ],
      "metadata": {
        "id": "MvV0oVGX_FgZ"
      }
    },
    {
      "cell_type": "code",
      "source": [
        "chatbot = ChatBot(\"Peti Chatbot\")\n",
        "trainer = ChatterBotCorpusTrainer(chatbot)\n"
      ],
      "metadata": {
        "id": "b9XZ5-PS-z-_",
        "colab": {
          "base_uri": "https://localhost:8080/"
        },
        "outputId": "d61732c4-826c-4ba2-c3e6-21ee4051fced"
      },
      "execution_count": 27,
      "outputs": [
        {
          "output_type": "stream",
          "name": "stderr",
          "text": [
            "[nltk_data] Downloading package stopwords to /root/nltk_data...\n",
            "[nltk_data]   Package stopwords is already up-to-date!\n",
            "[nltk_data] Downloading package averaged_perceptron_tagger to\n",
            "[nltk_data]     /root/nltk_data...\n",
            "[nltk_data]   Package averaged_perceptron_tagger is already up-to-\n",
            "[nltk_data]       date!\n"
          ]
        }
      ]
    },
    {
      "cell_type": "markdown",
      "source": [
        "Train the chatbot on a corpus of available languages. This will allow the chatbot to understand and respond to input in multiple languages"
      ],
      "metadata": {
        "id": "4epLvF4A_eTW"
      }
    },
    {
      "cell_type": "code",
      "source": [
        "trainer.train(\"chatterbot.corpus.english\",\n",
        "              \"chatterbot.corpus.french\",\n",
        "              \"chatterbot.corpus.german\")\n"
      ],
      "metadata": {
        "id": "X4ePJWKm_fRu",
        "colab": {
          "base_uri": "https://localhost:8080/"
        },
        "outputId": "0b7faf35-dbc3-4168-8d70-727d2dbfd362"
      },
      "execution_count": 28,
      "outputs": [
        {
          "output_type": "stream",
          "name": "stdout",
          "text": [
            "Training ai.yml: [####################] 100%\n",
            "Training botprofile.yml: [####################] 100%\n",
            "Training computers.yml: [####################] 100%\n",
            "Training conversations.yml: [####################] 100%\n",
            "Training emotion.yml: [####################] 100%\n",
            "Training food.yml: [####################] 100%\n",
            "Training gossip.yml: [####################] 100%\n",
            "Training greetings.yml: [####################] 100%\n",
            "Training health.yml: [####################] 100%\n",
            "Training history.yml: [####################] 100%\n",
            "Training humor.yml: [####################] 100%\n",
            "Training literature.yml: [####################] 100%\n",
            "Training money.yml: [####################] 100%\n",
            "Training movies.yml: [####################] 100%\n",
            "Training politics.yml: [####################] 100%\n",
            "Training psychology.yml: [####################] 100%\n",
            "Training science.yml: [####################] 100%\n",
            "Training sports.yml: [####################] 100%\n",
            "Training trivia.yml: [####################] 100%\n",
            "Training botprofile.yml: [####################] 100%\n",
            "Training conversations.yml: [####################] 100%\n",
            "Training food.yml: [####################] 100%\n",
            "Training greetings.yml: [####################] 100%\n",
            "Training trivia.yml: [####################] 100%\n",
            "Training conversations.yml: [####################] 100%\n",
            "Training greetings.yml: [####################] 100%\n"
          ]
        }
      ]
    },
    {
      "cell_type": "markdown",
      "source": [
        "function that takes in a user's input message and translates it to the desired language"
      ],
      "metadata": {
        "id": "YdLkxZ-z_3gP"
      }
    },
    {
      "cell_type": "code",
      "source": [
        "def translate_input(message, src_language, dest_language):\n",
        "    translator = Translator()\n",
        "    translated_message = translator.translate(message, src=src_language, dest=dest_language).text\n",
        "    return translated_message\n"
      ],
      "metadata": {
        "id": "wchV08JC_7DH"
      },
      "execution_count": 29,
      "outputs": []
    },
    {
      "cell_type": "markdown",
      "source": [
        "Using the translate_input() function to translate the user's input message and pass it to the chatbot to generate a response"
      ],
      "metadata": {
        "id": "zm6kvSp3ABde"
      }
    },
    {
      "cell_type": "code",
      "source": [
        "def generate_response(message, src_language, dest_language):\n",
        "    translated_message = translate_input(message, src_language, dest_language)\n",
        "    response = chatbot.get_response(translated_message)\n",
        "    return response\n"
      ],
      "metadata": {
        "id": "wbleJomnAE6a"
      },
      "execution_count": 30,
      "outputs": []
    },
    {
      "cell_type": "markdown",
      "source": [
        "Using the generate_response() function to get a response from the chatbot in the desired language"
      ],
      "metadata": {
        "id": "MHYXy_LZAL9d"
      }
    },
    {
      "cell_type": "code",
      "source": [
        "try:\n",
        "  response = generate_response(\"Hello!\", \"en\", \"fr\").group()\n",
        "  print(response)\n",
        "except AttributeError:\n",
        "  pass\n",
        "\n"
      ],
      "metadata": {
        "id": "B7JkZsseAPFR"
      },
      "execution_count": 31,
      "outputs": []
    },
    {
      "cell_type": "markdown",
      "source": [
        "## Create a web server using Flask"
      ],
      "metadata": {
        "id": "3A5u51r6CjN4"
      }
    },
    {
      "cell_type": "markdown",
      "source": [
        "Installing Flask"
      ],
      "metadata": {
        "id": "SisyXUyFCoGH"
      }
    },
    {
      "cell_type": "code",
      "source": [
        "!pip install Flask\n"
      ],
      "metadata": {
        "id": "1OScM-g-Cu02",
        "colab": {
          "base_uri": "https://localhost:8080/"
        },
        "outputId": "de47f212-609b-420a-9e55-1766b74e4382"
      },
      "execution_count": 32,
      "outputs": [
        {
          "output_type": "stream",
          "name": "stdout",
          "text": [
            "Looking in indexes: https://pypi.org/simple, https://us-python.pkg.dev/colab-wheels/public/simple/\n",
            "Requirement already satisfied: Flask in /usr/local/lib/python3.8/dist-packages (1.1.4)\n",
            "Requirement already satisfied: Werkzeug<2.0,>=0.15 in /usr/local/lib/python3.8/dist-packages (from Flask) (1.0.1)\n",
            "Requirement already satisfied: itsdangerous<2.0,>=0.24 in /usr/local/lib/python3.8/dist-packages (from Flask) (1.1.0)\n",
            "Requirement already satisfied: click<8.0,>=5.1 in /usr/local/lib/python3.8/dist-packages (from Flask) (7.1.2)\n",
            "Requirement already satisfied: Jinja2<3.0,>=2.10.1 in /usr/local/lib/python3.8/dist-packages (from Flask) (2.11.3)\n",
            "Requirement already satisfied: MarkupSafe>=0.23 in /usr/local/lib/python3.8/dist-packages (from Jinja2<3.0,>=2.10.1->Flask) (2.0.1)\n"
          ]
        }
      ]
    },
    {
      "cell_type": "markdown",
      "source": [
        "Importing Flask and initialize a Flask application"
      ],
      "metadata": {
        "id": "mcSHs_4nEMDg"
      }
    },
    {
      "cell_type": "code",
      "source": [
        "from flask import Flask, request\n",
        "app = Flask(__name__)\n"
      ],
      "metadata": {
        "id": "DAVNjP1OEGHH"
      },
      "execution_count": 33,
      "outputs": []
    },
    {
      "cell_type": "markdown",
      "source": [
        "Defining an API endpoint that will handle user input and return responses from the chatbot"
      ],
      "metadata": {
        "id": "9ax08TilESQy"
      }
    },
    {
      "cell_type": "code",
      "source": [
        "@app.route(\"/chat\", methods=[\"POST\"])\n",
        "def chat():\n",
        "    user_input = request.form[\"user_input\"]\n",
        "    src_language = request.form[\"src_language\"]\n",
        "    dest_language = request.form[\"dest_language\"]\n",
        "\n",
        "    response = generate_response(user_input, src_language, dest_language)\n",
        "\n",
        "    return response\n"
      ],
      "metadata": {
        "id": "u_ohwVHQERmp"
      },
      "execution_count": 34,
      "outputs": []
    },
    {
      "cell_type": "markdown",
      "source": [
        "Starting the Flask web server"
      ],
      "metadata": {
        "id": "n0AkT9b8EkyN"
      }
    },
    {
      "cell_type": "markdown",
      "source": [
        "Installing WSGI Server for production "
      ],
      "metadata": {
        "id": "sWnnL4KIHrjy"
      }
    },
    {
      "cell_type": "code",
      "source": [
        "!pip install waitress"
      ],
      "metadata": {
        "colab": {
          "base_uri": "https://localhost:8080/"
        },
        "id": "NGID1z6uHr_Q",
        "outputId": "a6f1c5c3-04f9-4452-ce5d-8208e07bc2cd"
      },
      "execution_count": 37,
      "outputs": [
        {
          "output_type": "stream",
          "name": "stdout",
          "text": [
            "Looking in indexes: https://pypi.org/simple, https://us-python.pkg.dev/colab-wheels/public/simple/\n",
            "Collecting waitress\n",
            "  Downloading waitress-2.1.2-py3-none-any.whl (57 kB)\n",
            "\u001b[K     |████████████████████████████████| 57 kB 5.3 MB/s \n",
            "\u001b[?25hInstalling collected packages: waitress\n",
            "Successfully installed waitress-2.1.2\n"
          ]
        }
      ]
    },
    {
      "cell_type": "code",
      "source": [
        "if __name__ == \"__main__\":\n",
        "    # from waitress import serve\n",
        "    app.run()\n",
        "    # serve(app, host=\"0.0.0.0\", port=8081)\n",
        "    \n"
      ],
      "metadata": {
        "id": "CC6JoIfXEoZF"
      },
      "execution_count": null,
      "outputs": []
    },
    {
      "cell_type": "markdown",
      "source": [
        "Installing and Importing the Flask-CORS library and enable CORS"
      ],
      "metadata": {
        "id": "mZrULOaYfijo"
      }
    },
    {
      "cell_type": "code",
      "source": [
        "!pip install -U flask-cors"
      ],
      "metadata": {
        "colab": {
          "base_uri": "https://localhost:8080/"
        },
        "id": "2ZDB7UGCfy29",
        "outputId": "4763bb98-8a07-4fd2-82f8-e19e6175144a"
      },
      "execution_count": 43,
      "outputs": [
        {
          "output_type": "stream",
          "name": "stdout",
          "text": [
            "Looking in indexes: https://pypi.org/simple, https://us-python.pkg.dev/colab-wheels/public/simple/\n",
            "Collecting flask-cors\n",
            "  Downloading Flask_Cors-3.0.10-py2.py3-none-any.whl (14 kB)\n",
            "Requirement already satisfied: Flask>=0.9 in /usr/local/lib/python3.8/dist-packages (from flask-cors) (1.1.4)\n",
            "Requirement already satisfied: Six in /usr/local/lib/python3.8/dist-packages (from flask-cors) (1.15.0)\n",
            "Requirement already satisfied: itsdangerous<2.0,>=0.24 in /usr/local/lib/python3.8/dist-packages (from Flask>=0.9->flask-cors) (1.1.0)\n",
            "Requirement already satisfied: Jinja2<3.0,>=2.10.1 in /usr/local/lib/python3.8/dist-packages (from Flask>=0.9->flask-cors) (2.11.3)\n",
            "Requirement already satisfied: Werkzeug<2.0,>=0.15 in /usr/local/lib/python3.8/dist-packages (from Flask>=0.9->flask-cors) (1.0.1)\n",
            "Requirement already satisfied: click<8.0,>=5.1 in /usr/local/lib/python3.8/dist-packages (from Flask>=0.9->flask-cors) (7.1.2)\n",
            "Requirement already satisfied: MarkupSafe>=0.23 in /usr/local/lib/python3.8/dist-packages (from Jinja2<3.0,>=2.10.1->Flask>=0.9->flask-cors) (2.0.1)\n",
            "Installing collected packages: flask-cors\n",
            "Successfully installed flask-cors-3.0.10\n"
          ]
        }
      ]
    },
    {
      "cell_type": "code",
      "source": [
        "from flask_cors import CORS\n",
        "\n",
        "app = Flask(__name__)\n",
        "CORS(app)\n"
      ],
      "metadata": {
        "colab": {
          "base_uri": "https://localhost:8080/"
        },
        "id": "FEvAufaPfeEj",
        "outputId": "12bb0e50-2589-43a9-d399-fde804c8cf65"
      },
      "execution_count": 44,
      "outputs": [
        {
          "output_type": "execute_result",
          "data": {
            "text/plain": [
              "<flask_cors.extension.CORS at 0x7f8b62a78dc0>"
            ]
          },
          "metadata": {},
          "execution_count": 44
        }
      ]
    },
    {
      "cell_type": "markdown",
      "source": [
        "In the Flask web server, use the jsonify() function to format the response from the chatbot as JSON"
      ],
      "metadata": {
        "id": "AJnM63oQgFKg"
      }
    },
    {
      "cell_type": "code",
      "source": [
        "from flask import jsonify\n",
        "\n",
        "@app.route(\"/chat\", methods=[\"POST\"])\n",
        "def chat():\n",
        "    user_input = request.form[\"user_input\"]\n",
        "    src_language = request.form[\"src_language\"]\n",
        "    dest_language = request.form[\"dest_language\"]\n",
        "\n",
        "    response = generate_response(user_input, src_language, dest_language)\n",
        "\n",
        "    return jsonify({\"response\": response})\n"
      ],
      "metadata": {
        "id": "e7NInfO3gAGs"
      },
      "execution_count": 45,
      "outputs": []
    }
  ]
}